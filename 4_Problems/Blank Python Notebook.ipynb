{
  "cells": [
    {
      "cell_type": "markdown",
      "id": "c1a7e244",
      "metadata": {
        "id": "c1a7e244"
      },
      "source": [
        "<a target=\"_blank\" href=\"https://colab.research.google.com/github/lukebarousse/Python_Data_Analytics_Course/blob/main/4_Problems/Blank Python Notebook.ipynb\">\n",
        "  <img src=\"https://colab.research.google.com/assets/colab-badge.svg\" alt=\"Open In Colab\"/>\n",
        "</a>"
      ]
    },
    {
      "cell_type": "markdown",
      "id": "e9a14a61",
      "metadata": {
        "id": "e9a14a61"
      },
      "source": [
        "# Blank Python Notebook\n",
        "A blank Colab notebook to work practice problems from my [\"Python for Data Analytics Course\"](https://www.youtube.com/watch?v=wUSDVGivd-8)."
      ]
    },
    {
      "cell_type": "code",
      "execution_count": null,
      "id": "cee9fe11",
      "metadata": {
        "id": "cee9fe11"
      },
      "outputs": [],
      "source": [
        "!pip install -qq -U datasets\n",
        "import pandas as pd\n",
        "from datasets import load_dataset\n",
        "import matplotlib.pyplot as plt\n",
        "\n",
        "dataset = load_dataset('lukebarousse/data_jobs')\n",
        "df = dataset['train'].to_pandas()\n",
        "\n",
        "df['job_posted_date'] = pd.to_datetime(df['job_posted_date'])"
      ]
    },
    {
      "cell_type": "code",
      "execution_count": null,
      "id": "31e0af19",
      "metadata": {
        "id": "31e0af19"
      },
      "outputs": [],
      "source": []
    }
  ],
  "metadata": {
    "language_info": {
      "name": "python"
    },
    "colab": {
      "provenance": []
    }
  },
  "nbformat": 4,
  "nbformat_minor": 5
}