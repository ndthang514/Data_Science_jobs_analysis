{
  "cells": [
    {
      "cell_type": "markdown",
      "id": "c1a7e244",
      "metadata": {
        "id": "c1a7e244"
      },
      "source": [
        "<a target=\"_blank\" href=\"https://colab.research.google.com/github/lukebarousse/Python_Data_Analytics_Course/blob/main/4_Problems/Blank Python Notebook.ipynb\">\n",
        "  <img src=\"https://colab.research.google.com/assets/colab-badge.svg\" alt=\"Open In Colab\"/>\n",
        "</a>"
      ]
    },
    {
      "cell_type": "markdown",
      "id": "e9a14a61",
      "metadata": {
        "id": "e9a14a61"
      },
      "source": [
        "# Blank Python Notebook\n",
        "A blank Colab notebook to work practice problems from my [\"Python for Data Analytics Course\"](https://www.youtube.com/watch?v=wUSDVGivd-8)."
      ]
    },
    {
      "cell_type": "code",
      "execution_count": null,
      "id": "cee9fe11",
      "metadata": {
        "id": "cee9fe11"
      },
      "outputs": [],
      "source": [
        "!pip install -qq -U datasets\n",
        "import pandas as pd\n",
        "from datasets import load_dataset\n",
        "import matplotlib.pyplot as plt\n",
        "\n",
        "dataset = load_dataset('lukebarousse/data_jobs')\n",
        "df = dataset['train'].to_pandas()\n",
        "\n",
        "df['job_posted_date'] = pd.to_datetime(df['job_posted_date'])"
      ]
    },
    {
      "cell_type": "code",
      "execution_count": 3,
      "id": "31e0af19",
      "metadata": {
        "id": "31e0af19",
        "outputId": "de770cae-53c6-4d58-9469-5ca6a2c1b3d0",
        "colab": {
          "base_uri": "https://localhost:8080/"
        }
      },
      "outputs": [
        {
          "output_type": "stream",
          "name": "stdout",
          "text": [
            "True\n"
          ]
        }
      ],
      "source": [
        "job_title1 = 'Data Engineer'\n",
        "job_title2 = 'Data Scientist'\n",
        "print(job_title1 is not job_title2)\n"
      ]
    },
    {
      "cell_type": "code",
      "source": [
        "job_locations = ['New York', 'San Francisco', 'Austin']\n",
        "if 'New York' in job_locations:\n",
        "  print('New York is in the list')"
      ],
      "metadata": {
        "id": "xFGc9aBe9Q0M",
        "outputId": "3e8cf373-e580-4971-e027-ca13a9c3ebba",
        "colab": {
          "base_uri": "https://localhost:8080/"
        }
      },
      "id": "xFGc9aBe9Q0M",
      "execution_count": 4,
      "outputs": [
        {
          "output_type": "stream",
          "name": "stdout",
          "text": [
            "New York is in the list\n"
          ]
        }
      ]
    },
    {
      "cell_type": "code",
      "source": [
        "print('New York' in job_locations)"
      ],
      "metadata": {
        "id": "s6Shojhy9fwL",
        "outputId": "4e50a659-8448-4e2c-9d84-d51ba533b032",
        "colab": {
          "base_uri": "https://localhost:8080/"
        }
      },
      "id": "s6Shojhy9fwL",
      "execution_count": 5,
      "outputs": [
        {
          "output_type": "stream",
          "name": "stdout",
          "text": [
            "True\n"
          ]
        }
      ]
    },
    {
      "cell_type": "code",
      "source": [],
      "metadata": {
        "id": "IEQrEhZA-SyK"
      },
      "id": "IEQrEhZA-SyK",
      "execution_count": null,
      "outputs": []
    }
  ],
  "metadata": {
    "language_info": {
      "name": "python"
    },
    "colab": {
      "provenance": []
    },
    "kernelspec": {
      "name": "python3",
      "display_name": "Python 3"
    }
  },
  "nbformat": 4,
  "nbformat_minor": 5
}